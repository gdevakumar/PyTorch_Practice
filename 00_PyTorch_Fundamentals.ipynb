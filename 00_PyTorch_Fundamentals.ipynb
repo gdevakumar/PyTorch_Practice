{
 "cells": [
  {
   "cell_type": "code",
   "execution_count": 1,
   "id": "e635dec3",
   "metadata": {},
   "outputs": [
    {
     "name": "stdout",
     "output_type": "stream",
     "text": [
      "2.0.1+cu117\n",
      "True\n"
     ]
    }
   ],
   "source": [
    "import torch\n",
    "print(torch.__version__)\n",
    "print(torch.cuda.is_available())"
   ]
  },
  {
   "cell_type": "code",
   "execution_count": 2,
   "id": "7127e11f",
   "metadata": {},
   "outputs": [
    {
     "name": "stdout",
     "output_type": "stream",
     "text": [
      "Sun Jun  4 17:24:29 2023       \n",
      "+---------------------------------------------------------------------------------------+\n",
      "| NVIDIA-SMI 531.68                 Driver Version: 531.68       CUDA Version: 12.1     |\n",
      "|-----------------------------------------+----------------------+----------------------+\n",
      "| GPU  Name                      TCC/WDDM | Bus-Id        Disp.A | Volatile Uncorr. ECC |\n",
      "| Fan  Temp  Perf            Pwr:Usage/Cap|         Memory-Usage | GPU-Util  Compute M. |\n",
      "|                                         |                      |               MIG M. |\n",
      "|=========================================+======================+======================|\n",
      "|   0  NVIDIA GeForce GTX 1660 Ti    WDDM | 00000000:01:00.0 Off |                  N/A |\n",
      "| N/A   41C    P8                5W /  N/A|      0MiB /  6144MiB |      0%      Default |\n",
      "|                                         |                      |                  N/A |\n",
      "+-----------------------------------------+----------------------+----------------------+\n",
      "                                                                                         \n",
      "+---------------------------------------------------------------------------------------+\n",
      "| Processes:                                                                            |\n",
      "|  GPU   GI   CI        PID   Type   Process name                            GPU Memory |\n",
      "|        ID   ID                                                             Usage      |\n",
      "|=======================================================================================|\n",
      "|  No running processes found                                                           |\n",
      "+---------------------------------------------------------------------------------------+\n"
     ]
    }
   ],
   "source": [
    "!nvidia-smi"
   ]
  },
  {
   "cell_type": "markdown",
   "id": "0cfc6019",
   "metadata": {},
   "source": [
    "# Introduction to Tensors\n",
    "## Creating Tensors\n",
    "`torch.tensor()`"
   ]
  },
  {
   "cell_type": "markdown",
   "id": "22d3fa96",
   "metadata": {},
   "source": [
    "### Scalar"
   ]
  },
  {
   "cell_type": "code",
   "execution_count": 3,
   "id": "b92124ce",
   "metadata": {},
   "outputs": [
    {
     "data": {
      "text/plain": [
       "tensor(6)"
      ]
     },
     "execution_count": 3,
     "metadata": {},
     "output_type": "execute_result"
    }
   ],
   "source": [
    "scalar = torch.tensor(6)\n",
    "scalar"
   ]
  },
  {
   "cell_type": "code",
   "execution_count": 4,
   "id": "63c60da5",
   "metadata": {},
   "outputs": [
    {
     "data": {
      "text/plain": [
       "0"
      ]
     },
     "execution_count": 4,
     "metadata": {},
     "output_type": "execute_result"
    }
   ],
   "source": [
    "scalar.ndim"
   ]
  },
  {
   "cell_type": "code",
   "execution_count": 5,
   "id": "6ef7eed3",
   "metadata": {},
   "outputs": [
    {
     "data": {
      "text/plain": [
       "6"
      ]
     },
     "execution_count": 5,
     "metadata": {},
     "output_type": "execute_result"
    }
   ],
   "source": [
    "# To get value of tensor\n",
    "scalar.item()"
   ]
  },
  {
   "cell_type": "markdown",
   "id": "23d26a1a",
   "metadata": {},
   "source": [
    "### Vector"
   ]
  },
  {
   "cell_type": "code",
   "execution_count": 6,
   "id": "45bcbdd4",
   "metadata": {},
   "outputs": [
    {
     "data": {
      "text/plain": [
       "tensor([2, 5])"
      ]
     },
     "execution_count": 6,
     "metadata": {},
     "output_type": "execute_result"
    }
   ],
   "source": [
    "vector = torch.tensor([2, 5])\n",
    "vector"
   ]
  },
  {
   "cell_type": "code",
   "execution_count": 7,
   "id": "2d208b08",
   "metadata": {},
   "outputs": [
    {
     "data": {
      "text/plain": [
       "1"
      ]
     },
     "execution_count": 7,
     "metadata": {},
     "output_type": "execute_result"
    }
   ],
   "source": [
    "vector.ndim"
   ]
  },
  {
   "cell_type": "code",
   "execution_count": 8,
   "id": "195d299f",
   "metadata": {},
   "outputs": [
    {
     "data": {
      "text/plain": [
       "torch.Size([2])"
      ]
     },
     "execution_count": 8,
     "metadata": {},
     "output_type": "execute_result"
    }
   ],
   "source": [
    "vector.shape"
   ]
  },
  {
   "cell_type": "code",
   "execution_count": 9,
   "id": "5a625897",
   "metadata": {},
   "outputs": [
    {
     "data": {
      "text/plain": [
       "tensor(5)"
      ]
     },
     "execution_count": 9,
     "metadata": {},
     "output_type": "execute_result"
    }
   ],
   "source": [
    "vector[1]"
   ]
  },
  {
   "cell_type": "markdown",
   "id": "6fb739be",
   "metadata": {},
   "source": [
    "### Matrix"
   ]
  },
  {
   "cell_type": "code",
   "execution_count": 10,
   "id": "3d019531",
   "metadata": {},
   "outputs": [
    {
     "data": {
      "text/plain": [
       "tensor([[1, 2],\n",
       "        [3, 4]])"
      ]
     },
     "execution_count": 10,
     "metadata": {},
     "output_type": "execute_result"
    }
   ],
   "source": [
    "matrix = torch.tensor([[1, 2], \n",
    "                       [3, 4]])\n",
    "matrix"
   ]
  },
  {
   "cell_type": "code",
   "execution_count": 11,
   "id": "33e2285b",
   "metadata": {},
   "outputs": [
    {
     "data": {
      "text/plain": [
       "2"
      ]
     },
     "execution_count": 11,
     "metadata": {},
     "output_type": "execute_result"
    }
   ],
   "source": [
    "matrix.ndim"
   ]
  },
  {
   "cell_type": "code",
   "execution_count": 12,
   "id": "6deb2825",
   "metadata": {},
   "outputs": [
    {
     "data": {
      "text/plain": [
       "torch.Size([2, 2])"
      ]
     },
     "execution_count": 12,
     "metadata": {},
     "output_type": "execute_result"
    }
   ],
   "source": [
    "matrix.shape"
   ]
  },
  {
   "cell_type": "code",
   "execution_count": 13,
   "id": "85450b94",
   "metadata": {},
   "outputs": [
    {
     "data": {
      "text/plain": [
       "tensor([1, 2])"
      ]
     },
     "execution_count": 13,
     "metadata": {},
     "output_type": "execute_result"
    }
   ],
   "source": [
    "matrix[0]"
   ]
  },
  {
   "cell_type": "markdown",
   "id": "c3b65aef",
   "metadata": {},
   "source": [
    "### Tensor"
   ]
  },
  {
   "cell_type": "code",
   "execution_count": 14,
   "id": "72e30c0d",
   "metadata": {},
   "outputs": [
    {
     "data": {
      "text/plain": [
       "tensor([[[1, 2, 3],\n",
       "         [2, 4, 6],\n",
       "         [6, 7, 3]]])"
      ]
     },
     "execution_count": 14,
     "metadata": {},
     "output_type": "execute_result"
    }
   ],
   "source": [
    "tensor = torch.tensor([[[1, 2, 3],\n",
    "                       [2, 4, 6],\n",
    "                       [6, 7, 3]]])\n",
    "tensor"
   ]
  },
  {
   "cell_type": "code",
   "execution_count": 15,
   "id": "779b6647",
   "metadata": {},
   "outputs": [
    {
     "data": {
      "text/plain": [
       "3"
      ]
     },
     "execution_count": 15,
     "metadata": {},
     "output_type": "execute_result"
    }
   ],
   "source": [
    "tensor.ndim"
   ]
  },
  {
   "cell_type": "code",
   "execution_count": 16,
   "id": "69d0f0e3",
   "metadata": {},
   "outputs": [
    {
     "data": {
      "text/plain": [
       "torch.Size([1, 3, 3])"
      ]
     },
     "execution_count": 16,
     "metadata": {},
     "output_type": "execute_result"
    }
   ],
   "source": [
    "tensor.shape   # this represents one(1) 3x3 matrix"
   ]
  },
  {
   "cell_type": "code",
   "execution_count": 17,
   "id": "3e846023",
   "metadata": {},
   "outputs": [
    {
     "data": {
      "text/plain": [
       "tensor([[1, 2, 3],\n",
       "        [2, 4, 6],\n",
       "        [6, 7, 3]])"
      ]
     },
     "execution_count": 17,
     "metadata": {},
     "output_type": "execute_result"
    }
   ],
   "source": [
    "tensor[0]"
   ]
  },
  {
   "cell_type": "code",
   "execution_count": 18,
   "id": "d61b4c3d",
   "metadata": {},
   "outputs": [
    {
     "data": {
      "text/plain": [
       "tensor([6, 7, 3])"
      ]
     },
     "execution_count": 18,
     "metadata": {},
     "output_type": "execute_result"
    }
   ],
   "source": [
    "tensor[0][2]"
   ]
  },
  {
   "cell_type": "markdown",
   "id": "67b04c69",
   "metadata": {},
   "source": [
    "### Random Tensors\n",
    "`torch.rand(size)`"
   ]
  },
  {
   "cell_type": "code",
   "execution_count": 19,
   "id": "a5500336",
   "metadata": {},
   "outputs": [
    {
     "data": {
      "text/plain": [
       "tensor([[0.6756, 0.5590, 0.1858, 0.4716],\n",
       "        [0.2803, 0.3001, 0.3578, 0.6401],\n",
       "        [0.7227, 0.4425, 0.9267, 0.5682]])"
      ]
     },
     "execution_count": 19,
     "metadata": {},
     "output_type": "execute_result"
    }
   ],
   "source": [
    "random_tensor = torch.rand(3, 4)\n",
    "random_tensor"
   ]
  },
  {
   "cell_type": "code",
   "execution_count": 20,
   "id": "ff828d9c",
   "metadata": {},
   "outputs": [
    {
     "data": {
      "text/plain": [
       "2"
      ]
     },
     "execution_count": 20,
     "metadata": {},
     "output_type": "execute_result"
    }
   ],
   "source": [
    "random_tensor.ndim"
   ]
  },
  {
   "cell_type": "code",
   "execution_count": 21,
   "id": "9128bfad",
   "metadata": {},
   "outputs": [
    {
     "data": {
      "text/plain": [
       "tensor([[[0.3955, 0.4535, 0.5089,  ..., 0.9481, 0.9861, 0.6592],\n",
       "         [0.5672, 0.0390, 0.7995,  ..., 0.4631, 0.0061, 0.7466],\n",
       "         [0.1039, 0.7800, 0.7978,  ..., 0.8002, 0.1981, 0.2865],\n",
       "         ...,\n",
       "         [0.2687, 0.7271, 0.3954,  ..., 0.5722, 0.7938, 0.4724],\n",
       "         [0.3909, 0.2547, 0.1174,  ..., 0.0517, 0.3203, 0.4984],\n",
       "         [0.3506, 0.1685, 0.3401,  ..., 0.3514, 0.7068, 0.0406]],\n",
       "\n",
       "        [[0.4064, 0.6831, 0.4439,  ..., 0.4471, 0.7389, 0.4000],\n",
       "         [0.0948, 0.0073, 0.0057,  ..., 0.8700, 0.6316, 0.3754],\n",
       "         [0.9455, 0.9507, 0.5699,  ..., 0.5968, 0.7966, 0.6715],\n",
       "         ...,\n",
       "         [0.1126, 0.0493, 0.0761,  ..., 0.9346, 0.9373, 0.8294],\n",
       "         [0.6786, 0.8058, 0.9972,  ..., 0.6644, 0.4534, 0.2308],\n",
       "         [0.1252, 0.0839, 0.7870,  ..., 0.7490, 0.7282, 0.7870]],\n",
       "\n",
       "        [[0.7968, 0.5785, 0.2257,  ..., 0.9581, 0.7127, 0.3428],\n",
       "         [0.9777, 0.3976, 0.1411,  ..., 0.6036, 0.4081, 0.5794],\n",
       "         [0.0395, 0.1068, 0.2334,  ..., 0.0628, 0.8882, 0.5869],\n",
       "         ...,\n",
       "         [0.2720, 0.1750, 0.9660,  ..., 0.4520, 0.3412, 0.7778],\n",
       "         [0.7596, 0.1231, 0.9874,  ..., 0.7612, 0.9274, 0.9868],\n",
       "         [0.9990, 0.3491, 0.4776,  ..., 0.0517, 0.5456, 0.1107]]])"
      ]
     },
     "execution_count": 21,
     "metadata": {},
     "output_type": "execute_result"
    }
   ],
   "source": [
    "# Creating a tensor of shape of an image\n",
    "\n",
    "img_tensor = torch.rand(size=(3, 224, 224))  # no. of color channels, height, width\n",
    "img_tensor"
   ]
  },
  {
   "cell_type": "code",
   "execution_count": 22,
   "id": "1a898784",
   "metadata": {},
   "outputs": [
    {
     "data": {
      "text/plain": [
       "(torch.Size([3, 224, 224]), 3)"
      ]
     },
     "execution_count": 22,
     "metadata": {},
     "output_type": "execute_result"
    }
   ],
   "source": [
    "img_tensor.shape, img_tensor.ndim"
   ]
  },
  {
   "cell_type": "code",
   "execution_count": 23,
   "id": "c5c7cf17",
   "metadata": {},
   "outputs": [
    {
     "data": {
      "text/plain": [
       "tensor([[0.2641, 0.6767, 0.4403, 0.3922],\n",
       "        [0.1380, 0.4463, 0.8644, 0.9850]])"
      ]
     },
     "execution_count": 23,
     "metadata": {},
     "output_type": "execute_result"
    }
   ],
   "source": [
    "torch.rand((2, 4))"
   ]
  },
  {
   "cell_type": "markdown",
   "id": "99172852",
   "metadata": {},
   "source": [
    "### Zeros and Ones\n",
    "`torch.zeros()`\n",
    "`torch.ones()`"
   ]
  },
  {
   "cell_type": "code",
   "execution_count": 24,
   "id": "c55a7536",
   "metadata": {},
   "outputs": [
    {
     "data": {
      "text/plain": [
       "tensor([[0., 0., 0.],\n",
       "        [0., 0., 0.]])"
      ]
     },
     "execution_count": 24,
     "metadata": {},
     "output_type": "execute_result"
    }
   ],
   "source": [
    "zeros = torch.zeros(size=(2, 3))\n",
    "zeros"
   ]
  },
  {
   "cell_type": "code",
   "execution_count": 25,
   "id": "9dfbe522",
   "metadata": {},
   "outputs": [
    {
     "data": {
      "text/plain": [
       "tensor([[1., 1., 1., 1.],\n",
       "        [1., 1., 1., 1.],\n",
       "        [1., 1., 1., 1.]])"
      ]
     },
     "execution_count": 25,
     "metadata": {},
     "output_type": "execute_result"
    }
   ],
   "source": [
    "ones = torch.ones((3, 4))\n",
    "ones"
   ]
  },
  {
   "cell_type": "markdown",
   "id": "b5f4e3c1",
   "metadata": {},
   "source": [
    "### Creating a range of tensors\n",
    "`torch.arange(start, end)`"
   ]
  },
  {
   "cell_type": "code",
   "execution_count": 26,
   "id": "373ac48b",
   "metadata": {},
   "outputs": [
    {
     "data": {
      "text/plain": [
       "tensor([1, 2, 3, 4, 5, 6, 7, 8, 9])"
      ]
     },
     "execution_count": 26,
     "metadata": {},
     "output_type": "execute_result"
    }
   ],
   "source": [
    "range_tensor = torch.arange(1, 10)\n",
    "range_tensor"
   ]
  },
  {
   "cell_type": "code",
   "execution_count": 27,
   "id": "62aea289",
   "metadata": {},
   "outputs": [
    {
     "data": {
      "text/plain": [
       "torch.int64"
      ]
     },
     "execution_count": 27,
     "metadata": {},
     "output_type": "execute_result"
    }
   ],
   "source": [
    "range_tensor.dtype"
   ]
  },
  {
   "cell_type": "markdown",
   "id": "c2efc389",
   "metadata": {},
   "source": [
    "### Creating tensors like\n",
    "`torch.zeros_like()`\n",
    "`torch.ones_like()`"
   ]
  },
  {
   "cell_type": "code",
   "execution_count": 28,
   "id": "18f97e4f",
   "metadata": {},
   "outputs": [
    {
     "data": {
      "text/plain": [
       "tensor([0, 0, 0, 0, 0, 0, 0, 0, 0])"
      ]
     },
     "execution_count": 28,
     "metadata": {},
     "output_type": "execute_result"
    }
   ],
   "source": [
    "a = torch.zeros_like(range_tensor)\n",
    "a"
   ]
  },
  {
   "cell_type": "code",
   "execution_count": 29,
   "id": "d108d8bc",
   "metadata": {},
   "outputs": [
    {
     "data": {
      "text/plain": [
       "tensor([[1., 1., 1., 1.],\n",
       "        [1., 1., 1., 1.],\n",
       "        [1., 1., 1., 1.]])"
      ]
     },
     "execution_count": 29,
     "metadata": {},
     "output_type": "execute_result"
    }
   ],
   "source": [
    "a = torch.ones_like(random_tensor)\n",
    "a"
   ]
  },
  {
   "cell_type": "markdown",
   "id": "4dba3767",
   "metadata": {},
   "source": [
    "### Other parameters of tensor"
   ]
  },
  {
   "cell_type": "code",
   "execution_count": 30,
   "id": "2993a292",
   "metadata": {},
   "outputs": [
    {
     "data": {
      "text/plain": [
       "tensor([1., 2., 3.], device='cuda:0')"
      ]
     },
     "execution_count": 30,
     "metadata": {},
     "output_type": "execute_result"
    }
   ],
   "source": [
    "float_32_tensor = torch.tensor([1, 2, 3], \n",
    "                              dtype=torch.float32,  # what datatype is the tensor\n",
    "                              device=\"cuda\",        # what device is your tensor on\n",
    "                              requires_grad=False)  # whether to track gradients with tensor operations\n",
    "float_32_tensor"
   ]
  },
  {
   "cell_type": "code",
   "execution_count": 31,
   "id": "6f913baf",
   "metadata": {},
   "outputs": [
    {
     "data": {
      "text/plain": [
       "torch.float32"
      ]
     },
     "execution_count": 31,
     "metadata": {},
     "output_type": "execute_result"
    }
   ],
   "source": [
    "float_32_tensor.dtype"
   ]
  },
  {
   "cell_type": "code",
   "execution_count": 32,
   "id": "2c5ce4f4",
   "metadata": {},
   "outputs": [
    {
     "data": {
      "text/plain": [
       "tensor([1., 2., 3.], device='cuda:0', dtype=torch.float16)"
      ]
     },
     "execution_count": 32,
     "metadata": {},
     "output_type": "execute_result"
    }
   ],
   "source": [
    "# Converting one datatype to other datatype\n",
    "\n",
    "float_16_tensor = float_32_tensor.type(torch.float16)\n",
    "float_16_tensor"
   ]
  },
  {
   "cell_type": "markdown",
   "id": "00ad9a1e",
   "metadata": {},
   "source": [
    "### Common Errors in Tensors\n",
    "- Tensors not right datatypes - to get data type, use `tensor.dtype`\n",
    "- Tensors not right shape - to get shape of a tensor, use `tensor.shape`\n",
    "- Tensors not on the right device - To get device of a tensor, use `tensor.device`"
   ]
  },
  {
   "cell_type": "code",
   "execution_count": 33,
   "id": "d88b3897",
   "metadata": {},
   "outputs": [
    {
     "data": {
      "text/plain": [
       "tensor([[0.1375, 0.1608],\n",
       "        [0.8665, 0.7017],\n",
       "        [0.8089, 0.7357]])"
      ]
     },
     "execution_count": 33,
     "metadata": {},
     "output_type": "execute_result"
    }
   ],
   "source": [
    "new_tensor = torch.rand(3, 2)\n",
    "new_tensor"
   ]
  },
  {
   "cell_type": "code",
   "execution_count": 34,
   "id": "ad2b119e",
   "metadata": {},
   "outputs": [
    {
     "name": "stdout",
     "output_type": "stream",
     "text": [
      "tensor([[0.1375, 0.1608],\n",
      "        [0.8665, 0.7017],\n",
      "        [0.8089, 0.7357]])\n",
      "Shape of tensor: torch.Size([3, 2])\n",
      "Data type of tensor: torch.float32\n",
      "Device of tensor: cpu\n"
     ]
    }
   ],
   "source": [
    "# Details of this tensor\n",
    "\n",
    "print(new_tensor)\n",
    "print(f\"Shape of tensor: {new_tensor.shape}\")\n",
    "print(f\"Data type of tensor: {new_tensor.dtype}\")\n",
    "print(f\"Device of tensor: {new_tensor.device}\")"
   ]
  },
  {
   "cell_type": "markdown",
   "id": "26f87221",
   "metadata": {},
   "source": [
    "## Tensor Operations\n",
    "* Addition\n",
    "* Subtraction\n",
    "* Multiplication (element wise)\n",
    "* Division\n",
    "* Matrix Multiplication"
   ]
  },
  {
   "cell_type": "code",
   "execution_count": 35,
   "id": "4b898b8d",
   "metadata": {},
   "outputs": [
    {
     "data": {
      "text/plain": [
       "tensor([1, 2, 3])"
      ]
     },
     "execution_count": 35,
     "metadata": {},
     "output_type": "execute_result"
    }
   ],
   "source": [
    "tensor = torch.tensor([1, 2, 3])\n",
    "tensor"
   ]
  },
  {
   "cell_type": "code",
   "execution_count": 36,
   "id": "e99ba75a",
   "metadata": {},
   "outputs": [
    {
     "data": {
      "text/plain": [
       "tensor([11, 12, 13])"
      ]
     },
     "execution_count": 36,
     "metadata": {},
     "output_type": "execute_result"
    }
   ],
   "source": [
    "tensor + 10"
   ]
  },
  {
   "cell_type": "code",
   "execution_count": 37,
   "id": "b75d9bdf",
   "metadata": {},
   "outputs": [
    {
     "data": {
      "text/plain": [
       "tensor([10, 20, 30])"
      ]
     },
     "execution_count": 37,
     "metadata": {},
     "output_type": "execute_result"
    }
   ],
   "source": [
    "tensor * 10"
   ]
  },
  {
   "cell_type": "code",
   "execution_count": 38,
   "id": "dd1d5f2d",
   "metadata": {},
   "outputs": [
    {
     "data": {
      "text/plain": [
       "tensor([-2, -4, -6])"
      ]
     },
     "execution_count": 38,
     "metadata": {},
     "output_type": "execute_result"
    }
   ],
   "source": [
    "torch.mul(tensor, -2)"
   ]
  },
  {
   "cell_type": "code",
   "execution_count": 39,
   "id": "85c2e69e",
   "metadata": {},
   "outputs": [
    {
     "data": {
      "text/plain": [
       "tensor([ 5, 10, 15])"
      ]
     },
     "execution_count": 39,
     "metadata": {},
     "output_type": "execute_result"
    }
   ],
   "source": [
    "tensor * torch.tensor(5)"
   ]
  },
  {
   "cell_type": "code",
   "execution_count": 40,
   "id": "f39c87db",
   "metadata": {},
   "outputs": [
    {
     "data": {
      "text/plain": [
       "tensor([2, 1, 0])"
      ]
     },
     "execution_count": 40,
     "metadata": {},
     "output_type": "execute_result"
    }
   ],
   "source": [
    "3 - tensor"
   ]
  },
  {
   "cell_type": "code",
   "execution_count": 41,
   "id": "701f637e",
   "metadata": {},
   "outputs": [
    {
     "data": {
      "text/plain": [
       "tensor([1, 4, 9])"
      ]
     },
     "execution_count": 41,
     "metadata": {},
     "output_type": "execute_result"
    }
   ],
   "source": [
    "tensor * tensor"
   ]
  },
  {
   "cell_type": "code",
   "execution_count": 42,
   "id": "693e29a6",
   "metadata": {},
   "outputs": [
    {
     "data": {
      "text/plain": [
       "tensor(14)"
      ]
     },
     "execution_count": 42,
     "metadata": {},
     "output_type": "execute_result"
    }
   ],
   "source": [
    "# Matrix Multiplication (Dot Product)\n",
    "\n",
    "torch.matmul(tensor, tensor)   # 1*1 + 2*2 + 3*3"
   ]
  },
  {
   "cell_type": "markdown",
   "id": "0c081b72",
   "metadata": {},
   "source": [
    "`torch.matmul(A, B)`\n",
    "`torch.mm(a, B)`"
   ]
  },
  {
   "cell_type": "code",
   "execution_count": 43,
   "id": "c7914708",
   "metadata": {},
   "outputs": [],
   "source": [
    "tensor_A = torch.tensor([[1, 2], \n",
    "                        [3, 4], \n",
    "                        [5, 6]])\n",
    "tensor_B = torch.tensor([[1, 1],\n",
    "                        [2, 1], \n",
    "                        [3, 2]])"
   ]
  },
  {
   "cell_type": "code",
   "execution_count": 44,
   "id": "a16d19cf",
   "metadata": {},
   "outputs": [
    {
     "data": {
      "text/plain": [
       "(tensor([[1, 2],\n",
       "         [3, 4],\n",
       "         [5, 6]]),\n",
       " tensor([[1, 1],\n",
       "         [2, 1],\n",
       "         [3, 2]]))"
      ]
     },
     "execution_count": 44,
     "metadata": {},
     "output_type": "execute_result"
    }
   ],
   "source": [
    "tensor_A, tensor_B"
   ]
  },
  {
   "cell_type": "code",
   "execution_count": 45,
   "id": "a99fed41",
   "metadata": {},
   "outputs": [
    {
     "ename": "RuntimeError",
     "evalue": "mat1 and mat2 shapes cannot be multiplied (3x2 and 3x2)",
     "output_type": "error",
     "traceback": [
      "\u001b[1;31m---------------------------------------------------------------------------\u001b[0m",
      "\u001b[1;31mRuntimeError\u001b[0m                              Traceback (most recent call last)",
      "\u001b[1;32m~\\AppData\\Local\\Temp\\ipykernel_7524\\721672623.py\u001b[0m in \u001b[0;36m<module>\u001b[1;34m\u001b[0m\n\u001b[1;32m----> 1\u001b[1;33m \u001b[0mtorch\u001b[0m\u001b[1;33m.\u001b[0m\u001b[0mmatmul\u001b[0m\u001b[1;33m(\u001b[0m\u001b[0mtensor_A\u001b[0m\u001b[1;33m,\u001b[0m \u001b[0mtensor_B\u001b[0m\u001b[1;33m)\u001b[0m\u001b[1;33m\u001b[0m\u001b[1;33m\u001b[0m\u001b[0m\n\u001b[0m",
      "\u001b[1;31mRuntimeError\u001b[0m: mat1 and mat2 shapes cannot be multiplied (3x2 and 3x2)"
     ]
    }
   ],
   "source": [
    "torch.matmul(tensor_A, tensor_B)"
   ]
  },
  {
   "cell_type": "code",
   "execution_count": 46,
   "id": "e8b81323",
   "metadata": {},
   "outputs": [
    {
     "data": {
      "text/plain": [
       "(tensor([[1, 2, 3],\n",
       "         [1, 1, 2]]),\n",
       " torch.Size([2, 3]))"
      ]
     },
     "execution_count": 46,
     "metadata": {},
     "output_type": "execute_result"
    }
   ],
   "source": [
    "tensor_B.T, tensor_B.T.shape"
   ]
  },
  {
   "cell_type": "code",
   "execution_count": 47,
   "id": "7f18a70e",
   "metadata": {},
   "outputs": [
    {
     "data": {
      "text/plain": [
       "tensor([[ 3,  4,  7],\n",
       "        [ 7, 10, 17],\n",
       "        [11, 16, 27]])"
      ]
     },
     "execution_count": 47,
     "metadata": {},
     "output_type": "execute_result"
    }
   ],
   "source": [
    "# Transpose of a tensor/matrix\n",
    "\n",
    "torch.mm(tensor_A, tensor_B.T)"
   ]
  },
  {
   "cell_type": "markdown",
   "id": "923bff3d",
   "metadata": {},
   "source": [
    "### Tensor Aggregations"
   ]
  },
  {
   "cell_type": "code",
   "execution_count": 48,
   "id": "9db360f3",
   "metadata": {},
   "outputs": [
    {
     "data": {
      "text/plain": [
       "tensor([ 0, 10, 20, 30, 40, 50, 60, 70, 80, 90])"
      ]
     },
     "execution_count": 48,
     "metadata": {},
     "output_type": "execute_result"
    }
   ],
   "source": [
    "x = torch.arange(0, 100, 10)\n",
    "x"
   ]
  },
  {
   "cell_type": "code",
   "execution_count": 49,
   "id": "3df42bf4",
   "metadata": {},
   "outputs": [
    {
     "data": {
      "text/plain": [
       "(tensor(0), tensor(0))"
      ]
     },
     "execution_count": 49,
     "metadata": {},
     "output_type": "execute_result"
    }
   ],
   "source": [
    "torch.min(x), x.min()"
   ]
  },
  {
   "cell_type": "code",
   "execution_count": 50,
   "id": "816c4175",
   "metadata": {},
   "outputs": [
    {
     "data": {
      "text/plain": [
       "(tensor(90), tensor(90))"
      ]
     },
     "execution_count": 50,
     "metadata": {},
     "output_type": "execute_result"
    }
   ],
   "source": [
    "torch.max(x), x.max()"
   ]
  },
  {
   "cell_type": "code",
   "execution_count": 51,
   "id": "034cc410",
   "metadata": {},
   "outputs": [
    {
     "data": {
      "text/plain": [
       "(tensor(450), tensor(450))"
      ]
     },
     "execution_count": 51,
     "metadata": {},
     "output_type": "execute_result"
    }
   ],
   "source": [
    "torch.sum(x), x.sum()"
   ]
  },
  {
   "cell_type": "code",
   "execution_count": 52,
   "id": "bfef7a10",
   "metadata": {},
   "outputs": [
    {
     "data": {
      "text/plain": [
       "(tensor(45.), tensor(45.))"
      ]
     },
     "execution_count": 52,
     "metadata": {},
     "output_type": "execute_result"
    }
   ],
   "source": [
    "# Calculating mean is only done for float tensors and not int tensors\n",
    "\n",
    "torch.mean(x.type(torch.float32)), x.type(torch.float32).mean()"
   ]
  },
  {
   "cell_type": "markdown",
   "id": "5ef6c54e",
   "metadata": {},
   "source": [
    "### Finding positional min and max (index of min and max elements in tensor)"
   ]
  },
  {
   "cell_type": "code",
   "execution_count": 53,
   "id": "9b32e8be",
   "metadata": {},
   "outputs": [
    {
     "data": {
      "text/plain": [
       "tensor([ 1, 11, 21, 31, 41, 51, 61, 71, 81, 91])"
      ]
     },
     "execution_count": 53,
     "metadata": {},
     "output_type": "execute_result"
    }
   ],
   "source": [
    "x = x + 1\n",
    "x"
   ]
  },
  {
   "cell_type": "code",
   "execution_count": 54,
   "id": "fae17380",
   "metadata": {},
   "outputs": [
    {
     "data": {
      "text/plain": [
       "tensor(0)"
      ]
     },
     "execution_count": 54,
     "metadata": {},
     "output_type": "execute_result"
    }
   ],
   "source": [
    "x.argmin()"
   ]
  },
  {
   "cell_type": "code",
   "execution_count": 55,
   "id": "8f8a930e",
   "metadata": {},
   "outputs": [
    {
     "data": {
      "text/plain": [
       "tensor(9)"
      ]
     },
     "execution_count": 55,
     "metadata": {},
     "output_type": "execute_result"
    }
   ],
   "source": [
    "x.argmax()"
   ]
  },
  {
   "cell_type": "markdown",
   "id": "c15a043b",
   "metadata": {},
   "source": [
    "## Reshaping, Squeezing, Stacking Tensors"
   ]
  },
  {
   "cell_type": "markdown",
   "id": "4fe46b43",
   "metadata": {},
   "source": [
    "* **Reshaping** - Reshapes an input tensor to a defined shape\n",
    "* **View** - Returns a view of input tensor of certain shape but keeps the same memory of original tensor\n",
    "* **Stacking** - combine multiple tensors on top of each other(vstack) or side-by-side(hstack)\n",
    "* **Squeezing** - Remove all `1` dimensions from the tensor\n",
    "* **Unsqueezing** - Add a `1` dimension to a target tensor\n",
    "* **Permute** - Returns a view of input with dimensions permuted(swapped) in a certain way"
   ]
  },
  {
   "cell_type": "code",
   "execution_count": 56,
   "id": "7b88117c",
   "metadata": {},
   "outputs": [
    {
     "data": {
      "text/plain": [
       "(tensor([ 1.,  2.,  3.,  4.,  5.,  6.,  7.,  8.,  9., 10.]), torch.Size([10]))"
      ]
     },
     "execution_count": 56,
     "metadata": {},
     "output_type": "execute_result"
    }
   ],
   "source": [
    "a = torch.arange(1., 11)\n",
    "a, a.shape"
   ]
  },
  {
   "cell_type": "code",
   "execution_count": 57,
   "id": "f8c679ee",
   "metadata": {},
   "outputs": [
    {
     "data": {
      "text/plain": [
       "tensor([[ 1.,  2.,  3.,  4.,  5.],\n",
       "        [ 6.,  7.,  8.,  9., 10.]])"
      ]
     },
     "execution_count": 57,
     "metadata": {},
     "output_type": "execute_result"
    }
   ],
   "source": [
    "a.reshape(2, 5)"
   ]
  },
  {
   "cell_type": "code",
   "execution_count": 58,
   "id": "4cda4d0b",
   "metadata": {},
   "outputs": [
    {
     "data": {
      "text/plain": [
       "tensor([[ 1.,  2.],\n",
       "        [ 3.,  4.],\n",
       "        [ 5.,  6.],\n",
       "        [ 7.,  8.],\n",
       "        [ 9., 10.]])"
      ]
     },
     "execution_count": 58,
     "metadata": {},
     "output_type": "execute_result"
    }
   ],
   "source": [
    "a.reshape(5, -1)"
   ]
  },
  {
   "cell_type": "code",
   "execution_count": 59,
   "id": "20a067b1",
   "metadata": {},
   "outputs": [
    {
     "data": {
      "text/plain": [
       "(tensor([[ 1.],\n",
       "         [ 2.],\n",
       "         [ 3.],\n",
       "         [ 4.],\n",
       "         [ 5.],\n",
       "         [ 6.],\n",
       "         [ 7.],\n",
       "         [ 8.],\n",
       "         [ 9.],\n",
       "         [10.]]),\n",
       " torch.Size([10, 1]))"
      ]
     },
     "execution_count": 59,
     "metadata": {},
     "output_type": "execute_result"
    }
   ],
   "source": [
    "# View (share same memory; modifying view modifies original tensor too)\n",
    "\n",
    "z = a.view(10, 1)\n",
    "z, z.shape"
   ]
  },
  {
   "cell_type": "code",
   "execution_count": 60,
   "id": "7ac23b0f",
   "metadata": {},
   "outputs": [
    {
     "data": {
      "text/plain": [
       "(tensor([[ 1.],\n",
       "         [ 2.],\n",
       "         [ 3.],\n",
       "         [55.],\n",
       "         [ 5.],\n",
       "         [ 6.],\n",
       "         [ 7.],\n",
       "         [ 8.],\n",
       "         [ 9.],\n",
       "         [10.]]),\n",
       " tensor([ 1.,  2.,  3., 55.,  5.,  6.,  7.,  8.,  9., 10.]))"
      ]
     },
     "execution_count": 60,
     "metadata": {},
     "output_type": "execute_result"
    }
   ],
   "source": [
    "z[3][0] = 55\n",
    "z, a"
   ]
  },
  {
   "cell_type": "code",
   "execution_count": 61,
   "id": "1425ca9e",
   "metadata": {},
   "outputs": [
    {
     "data": {
      "text/plain": [
       "tensor([ 1.,  2.,  3., 55.,  5.,  6.,  7.,  8.,  9., 10.])"
      ]
     },
     "execution_count": 61,
     "metadata": {},
     "output_type": "execute_result"
    }
   ],
   "source": [
    "a"
   ]
  },
  {
   "cell_type": "code",
   "execution_count": 62,
   "id": "fef31b07",
   "metadata": {},
   "outputs": [
    {
     "data": {
      "text/plain": [
       "tensor([[ 1.,  2.,  3., 55.,  5.,  6.,  7.,  8.,  9., 10.],\n",
       "        [ 1.,  2.,  3., 55.,  5.,  6.,  7.,  8.,  9., 10.],\n",
       "        [ 1.,  2.,  3., 55.,  5.,  6.,  7.,  8.,  9., 10.]])"
      ]
     },
     "execution_count": 62,
     "metadata": {},
     "output_type": "execute_result"
    }
   ],
   "source": [
    "# Stacking\n",
    "x_stacked = torch.stack([a, a, a], dim=0)\n",
    "x_stacked"
   ]
  },
  {
   "cell_type": "code",
   "execution_count": 63,
   "id": "e4080dc5",
   "metadata": {},
   "outputs": [
    {
     "data": {
      "text/plain": [
       "tensor([[ 1.,  1.,  1.],\n",
       "        [ 2.,  2.,  2.],\n",
       "        [ 3.,  3.,  3.],\n",
       "        [55., 55., 55.],\n",
       "        [ 5.,  5.,  5.],\n",
       "        [ 6.,  6.,  6.],\n",
       "        [ 7.,  7.,  7.],\n",
       "        [ 8.,  8.,  8.],\n",
       "        [ 9.,  9.,  9.],\n",
       "        [10., 10., 10.]])"
      ]
     },
     "execution_count": 63,
     "metadata": {},
     "output_type": "execute_result"
    }
   ],
   "source": [
    "x_stacked = torch.stack([a, a, a], dim=1)\n",
    "x_stacked"
   ]
  },
  {
   "cell_type": "markdown",
   "id": "d2ac4044",
   "metadata": {},
   "source": [
    "# Squeeze and Unsqueeze\n",
    "`torch.squeeze(tensor)`\n",
    "`torch.unsqueeze(tensor)`"
   ]
  },
  {
   "cell_type": "code",
   "execution_count": 64,
   "id": "f1027964",
   "metadata": {},
   "outputs": [
    {
     "data": {
      "text/plain": [
       "(tensor([[ 1.,  2.,  3., 55.,  5.,  6.,  7.,  8.,  9., 10.]]),\n",
       " torch.Size([1, 10]))"
      ]
     },
     "execution_count": 64,
     "metadata": {},
     "output_type": "execute_result"
    }
   ],
   "source": [
    "a_reshaped = a.reshape(1, 10)\n",
    "a_reshaped, a_reshaped.shape"
   ]
  },
  {
   "cell_type": "code",
   "execution_count": 65,
   "id": "3ba655f9",
   "metadata": {},
   "outputs": [
    {
     "data": {
      "text/plain": [
       "(tensor([ 1.,  2.,  3., 55.,  5.,  6.,  7.,  8.,  9., 10.]), torch.Size([10]))"
      ]
     },
     "execution_count": 65,
     "metadata": {},
     "output_type": "execute_result"
    }
   ],
   "source": [
    "a_squeezed = a.squeeze()\n",
    "a_squeezed, a_squeezed.shape"
   ]
  },
  {
   "cell_type": "code",
   "execution_count": 66,
   "id": "355f0239",
   "metadata": {},
   "outputs": [
    {
     "data": {
      "text/plain": [
       "(tensor([[ 1.,  2.,  3., 55.,  5.,  6.,  7.,  8.,  9., 10.]]),\n",
       " torch.Size([1, 10]))"
      ]
     },
     "execution_count": 66,
     "metadata": {},
     "output_type": "execute_result"
    }
   ],
   "source": [
    "a_unsqueezed = a_squeezed.unsqueeze(dim=0)\n",
    "a_unsqueezed, a_unsqueezed.shape"
   ]
  },
  {
   "cell_type": "code",
   "execution_count": 67,
   "id": "6206e852",
   "metadata": {},
   "outputs": [
    {
     "data": {
      "text/plain": [
       "(tensor([[ 1.],\n",
       "         [ 2.],\n",
       "         [ 3.],\n",
       "         [55.],\n",
       "         [ 5.],\n",
       "         [ 6.],\n",
       "         [ 7.],\n",
       "         [ 8.],\n",
       "         [ 9.],\n",
       "         [10.]]),\n",
       " torch.Size([10, 1]))"
      ]
     },
     "execution_count": 67,
     "metadata": {},
     "output_type": "execute_result"
    }
   ],
   "source": [
    "a_unsqueezed = a_squeezed.unsqueeze(dim=1)\n",
    "a_unsqueezed, a_unsqueezed.shape"
   ]
  },
  {
   "cell_type": "code",
   "execution_count": 68,
   "id": "3d2a0836",
   "metadata": {},
   "outputs": [
    {
     "data": {
      "text/plain": [
       "torch.Size([2, 3, 5])"
      ]
     },
     "execution_count": 68,
     "metadata": {},
     "output_type": "execute_result"
    }
   ],
   "source": [
    "# Permute\n",
    "\n",
    "x = torch.randn(2, 3, 5)\n",
    "x.size()"
   ]
  },
  {
   "cell_type": "code",
   "execution_count": 69,
   "id": "71fd464e",
   "metadata": {},
   "outputs": [
    {
     "data": {
      "text/plain": [
       "torch.Size([5, 2, 3])"
      ]
     },
     "execution_count": 69,
     "metadata": {},
     "output_type": "execute_result"
    }
   ],
   "source": [
    "torch.permute(x, (2, 0, 1)).size()"
   ]
  },
  {
   "cell_type": "markdown",
   "id": "5ff35a75",
   "metadata": {},
   "source": [
    "### Indexing\n",
    "Similar to indexing in NumPy"
   ]
  },
  {
   "cell_type": "code",
   "execution_count": 70,
   "id": "763026c4",
   "metadata": {},
   "outputs": [
    {
     "data": {
      "text/plain": [
       "tensor([[[1, 2, 3],\n",
       "         [4, 5, 6],\n",
       "         [7, 8, 9]]])"
      ]
     },
     "execution_count": 70,
     "metadata": {},
     "output_type": "execute_result"
    }
   ],
   "source": [
    "x = torch.arange(1, 10).reshape(1, 3, 3)\n",
    "x"
   ]
  },
  {
   "cell_type": "code",
   "execution_count": 71,
   "id": "83f2659d",
   "metadata": {},
   "outputs": [
    {
     "data": {
      "text/plain": [
       "tensor([[1, 2, 3],\n",
       "        [4, 5, 6],\n",
       "        [7, 8, 9]])"
      ]
     },
     "execution_count": 71,
     "metadata": {},
     "output_type": "execute_result"
    }
   ],
   "source": [
    "x[0]"
   ]
  },
  {
   "cell_type": "code",
   "execution_count": 72,
   "id": "8422797b",
   "metadata": {},
   "outputs": [
    {
     "data": {
      "text/plain": [
       "tensor([1, 2, 3])"
      ]
     },
     "execution_count": 72,
     "metadata": {},
     "output_type": "execute_result"
    }
   ],
   "source": [
    "x[0][0]"
   ]
  },
  {
   "cell_type": "code",
   "execution_count": 73,
   "id": "808e8a4e",
   "metadata": {},
   "outputs": [
    {
     "data": {
      "text/plain": [
       "tensor([1, 2, 3])"
      ]
     },
     "execution_count": 73,
     "metadata": {},
     "output_type": "execute_result"
    }
   ],
   "source": [
    "x[0, 0]"
   ]
  },
  {
   "cell_type": "code",
   "execution_count": 74,
   "id": "57976615",
   "metadata": {},
   "outputs": [
    {
     "data": {
      "text/plain": [
       "tensor(1)"
      ]
     },
     "execution_count": 74,
     "metadata": {},
     "output_type": "execute_result"
    }
   ],
   "source": [
    "x[0][0][0]"
   ]
  },
  {
   "cell_type": "code",
   "execution_count": 75,
   "id": "753e8242",
   "metadata": {},
   "outputs": [
    {
     "data": {
      "text/plain": [
       "tensor([4, 5, 6])"
      ]
     },
     "execution_count": 75,
     "metadata": {},
     "output_type": "execute_result"
    }
   ],
   "source": [
    "x[0, 1]"
   ]
  },
  {
   "cell_type": "code",
   "execution_count": 76,
   "id": "02c7c67c",
   "metadata": {},
   "outputs": [
    {
     "data": {
      "text/plain": [
       "tensor(9)"
      ]
     },
     "execution_count": 76,
     "metadata": {},
     "output_type": "execute_result"
    }
   ],
   "source": [
    "# To get 9\n",
    "\n",
    "x[0, 2, 2]"
   ]
  },
  {
   "cell_type": "code",
   "execution_count": 77,
   "id": "39e951a4",
   "metadata": {},
   "outputs": [
    {
     "data": {
      "text/plain": [
       "tensor([[3, 6, 9]])"
      ]
     },
     "execution_count": 77,
     "metadata": {},
     "output_type": "execute_result"
    }
   ],
   "source": [
    "# To get [3, 6, 9]\n",
    "\n",
    "x[:, :, 2]"
   ]
  },
  {
   "cell_type": "markdown",
   "id": "e1175bd1",
   "metadata": {},
   "source": [
    "## PyTorch Tensors and NumPy Arrays"
   ]
  },
  {
   "cell_type": "markdown",
   "id": "bc3660a0",
   "metadata": {},
   "source": [
    "* ndarray to Tensor -> `torch.from_numpy(nddarray)`\n",
    "\n",
    "* Tensor to numpy array -> `torch.Tensor.numpy()`"
   ]
  },
  {
   "cell_type": "code",
   "execution_count": 78,
   "id": "96ca309e",
   "metadata": {},
   "outputs": [
    {
     "data": {
      "text/plain": [
       "(array([1., 2., 3., 4., 5., 6., 7.]),\n",
       " tensor([1., 2., 3., 4., 5., 6., 7.], dtype=torch.float64))"
      ]
     },
     "execution_count": 78,
     "metadata": {},
     "output_type": "execute_result"
    }
   ],
   "source": [
    "import numpy as np\n",
    "import torch\n",
    "\n",
    "# NumPy array to Tensor\n",
    "\n",
    "array = np.arange(1., 8.)\n",
    "tensor = torch.from_numpy(array)  # PyTorch Tensor reflects datatype of the ndarray\n",
    "array, tensor"
   ]
  },
  {
   "cell_type": "code",
   "execution_count": 79,
   "id": "0f38c52f",
   "metadata": {},
   "outputs": [
    {
     "data": {
      "text/plain": [
       "(array([2., 3., 4., 5., 6., 7., 8.]),\n",
       " tensor([1., 2., 3., 4., 5., 6., 7.], dtype=torch.float64))"
      ]
     },
     "execution_count": 79,
     "metadata": {},
     "output_type": "execute_result"
    }
   ],
   "source": [
    "array = array + 1\n",
    "array, tensor"
   ]
  },
  {
   "cell_type": "code",
   "execution_count": 80,
   "id": "55ece640",
   "metadata": {},
   "outputs": [
    {
     "data": {
      "text/plain": [
       "(tensor([[0.0773, 0.4310, 0.2058, 0.4269],\n",
       "         [0.5315, 0.9993, 0.5640, 0.1272]]),\n",
       " array([[0.0773204 , 0.4309913 , 0.20581478, 0.42690223],\n",
       "        [0.5315425 , 0.9992986 , 0.5640327 , 0.12717128]], dtype=float32))"
      ]
     },
     "execution_count": 80,
     "metadata": {},
     "output_type": "execute_result"
    }
   ],
   "source": [
    "# Tensor to NumPy array\n",
    "tensor = torch.rand(2, 4)\n",
    "array = tensor.numpy()\n",
    "tensor, array"
   ]
  },
  {
   "cell_type": "code",
   "execution_count": 81,
   "id": "5cc273da",
   "metadata": {},
   "outputs": [
    {
     "data": {
      "text/plain": [
       "(tensor([[0.7732, 4.3099, 2.0581, 4.2690],\n",
       "         [5.3154, 9.9930, 5.6403, 1.2717]]),\n",
       " array([[0.0773204 , 0.4309913 , 0.20581478, 0.42690223],\n",
       "        [0.5315425 , 0.9992986 , 0.5640327 , 0.12717128]], dtype=float32))"
      ]
     },
     "execution_count": 81,
     "metadata": {},
     "output_type": "execute_result"
    }
   ],
   "source": [
    "tensor = tensor * 10\n",
    "tensor, array"
   ]
  },
  {
   "cell_type": "markdown",
   "id": "5cb23371",
   "metadata": {},
   "source": [
    "## Reproducability\n",
    "Taking out random in random"
   ]
  },
  {
   "cell_type": "code",
   "execution_count": 82,
   "id": "6ddff930",
   "metadata": {},
   "outputs": [
    {
     "data": {
      "text/plain": [
       "(tensor([0.4283, 0.2889, 0.4224, 0.3571, 0.9577]),\n",
       " tensor([0.4283, 0.2889, 0.4224, 0.3571, 0.9577]),\n",
       " tensor([True, True, True, True, True]))"
      ]
     },
     "execution_count": 82,
     "metadata": {},
     "output_type": "execute_result"
    }
   ],
   "source": [
    "import torch\n",
    "RANDOM_SEED = 23\n",
    "torch.manual_seed(RANDOM_SEED)\n",
    "tensor_A = torch.rand(5)\n",
    "\n",
    "torch.manual_seed(RANDOM_SEED)\n",
    "tensor_B = torch.rand(5)\n",
    "\n",
    "tensor_A, tensor_B, tensor_A == tensor_B"
   ]
  },
  {
   "cell_type": "markdown",
   "id": "134ab826",
   "metadata": {},
   "source": [
    "## Running on GPUs"
   ]
  },
  {
   "cell_type": "code",
   "execution_count": 83,
   "id": "ab97e7a9",
   "metadata": {},
   "outputs": [
    {
     "name": "stdout",
     "output_type": "stream",
     "text": [
      "Sun Jun  4 17:25:39 2023       \n",
      "+---------------------------------------------------------------------------------------+\n",
      "| NVIDIA-SMI 531.68                 Driver Version: 531.68       CUDA Version: 12.1     |\n",
      "|-----------------------------------------+----------------------+----------------------+\n",
      "| GPU  Name                      TCC/WDDM | Bus-Id        Disp.A | Volatile Uncorr. ECC |\n",
      "| Fan  Temp  Perf            Pwr:Usage/Cap|         Memory-Usage | GPU-Util  Compute M. |\n",
      "|                                         |                      |               MIG M. |\n",
      "|=========================================+======================+======================|\n",
      "|   0  NVIDIA GeForce GTX 1660 Ti    WDDM | 00000000:01:00.0 Off |                  N/A |\n",
      "| N/A   42C    P8                5W /  N/A|    496MiB /  6144MiB |      0%      Default |\n",
      "|                                         |                      |                  N/A |\n",
      "+-----------------------------------------+----------------------+----------------------+\n",
      "                                                                                         \n",
      "+---------------------------------------------------------------------------------------+\n",
      "| Processes:                                                                            |\n",
      "|  GPU   GI   CI        PID   Type   Process name                            GPU Memory |\n",
      "|        ID   ID                                                             Usage      |\n",
      "|=======================================================================================|\n",
      "|    0   N/A  N/A      7524      C   C:\\Users\\deva\\anaconda3\\python.exe        N/A      |\n",
      "+---------------------------------------------------------------------------------------+\n"
     ]
    }
   ],
   "source": [
    "!nvidia-smi"
   ]
  },
  {
   "cell_type": "code",
   "execution_count": 84,
   "id": "0480b612",
   "metadata": {},
   "outputs": [
    {
     "data": {
      "text/plain": [
       "True"
      ]
     },
     "execution_count": 84,
     "metadata": {},
     "output_type": "execute_result"
    }
   ],
   "source": [
    "# To check if PyTorch is able to access GPU\n",
    "\n",
    "import torch\n",
    "torch.cuda.is_available()"
   ]
  },
  {
   "cell_type": "code",
   "execution_count": 85,
   "id": "c64c31f4",
   "metadata": {},
   "outputs": [
    {
     "data": {
      "text/plain": [
       "'cuda'"
      ]
     },
     "execution_count": 85,
     "metadata": {},
     "output_type": "execute_result"
    }
   ],
   "source": [
    "# Setting up device agnostic code\n",
    "\n",
    "device = \"cuda\" if torch.cuda.is_available() else \"cpu\"\n",
    "device"
   ]
  },
  {
   "cell_type": "code",
   "execution_count": 86,
   "id": "d585cb27",
   "metadata": {},
   "outputs": [
    {
     "data": {
      "text/plain": [
       "1"
      ]
     },
     "execution_count": 86,
     "metadata": {},
     "output_type": "execute_result"
    }
   ],
   "source": [
    "# Count number of devices\n",
    "torch.cuda.device_count()"
   ]
  },
  {
   "cell_type": "code",
   "execution_count": 87,
   "id": "ea8f6380",
   "metadata": {},
   "outputs": [
    {
     "data": {
      "text/plain": [
       "device(type='cuda')"
      ]
     },
     "execution_count": 87,
     "metadata": {},
     "output_type": "execute_result"
    }
   ],
   "source": [
    "# Creating a device instance\n",
    "\n",
    "cuda = torch.device('cuda')\n",
    "cuda"
   ]
  },
  {
   "cell_type": "code",
   "execution_count": 88,
   "id": "e9ba5fe1",
   "metadata": {},
   "outputs": [
    {
     "data": {
      "text/plain": [
       "(tensor([0.1100, 0.2933, 0.9205, 0.5876, 0.1299]), device(type='cpu'))"
      ]
     },
     "execution_count": 88,
     "metadata": {},
     "output_type": "execute_result"
    }
   ],
   "source": [
    "# To move a tensor from cpu to gpu\n",
    "\n",
    "tensor = torch.rand(5)\n",
    "tensor, tensor.device"
   ]
  },
  {
   "cell_type": "code",
   "execution_count": 89,
   "id": "4ec7d980",
   "metadata": {},
   "outputs": [
    {
     "data": {
      "text/plain": [
       "(tensor([0.1100, 0.2933, 0.9205, 0.5876, 0.1299], device='cuda:0'),\n",
       " device(type='cuda', index=0))"
      ]
     },
     "execution_count": 89,
     "metadata": {},
     "output_type": "execute_result"
    }
   ],
   "source": [
    "tensor = tensor.to(cuda)\n",
    "tensor, tensor.device"
   ]
  },
  {
   "cell_type": "markdown",
   "id": "4cf1b3e4",
   "metadata": {},
   "source": [
    "### We can't convert tensors on GPU to Numpy arrays. We have to move the tensor to CPU and then convert to numpy \n",
    "`Tensor.cpu()` -> moves GPU tensor to CPU"
   ]
  },
  {
   "cell_type": "code",
   "execution_count": 90,
   "id": "4539a95b",
   "metadata": {},
   "outputs": [
    {
     "data": {
      "text/plain": [
       "(tensor([0.6729, 0.1028, 0.7876, 0.5540, 0.4653]), device(type='cpu'))"
      ]
     },
     "execution_count": 90,
     "metadata": {},
     "output_type": "execute_result"
    }
   ],
   "source": [
    "tensor = torch.rand(5)\n",
    "tensor, tensor.device"
   ]
  },
  {
   "cell_type": "code",
   "execution_count": 91,
   "id": "eef35f25",
   "metadata": {},
   "outputs": [
    {
     "data": {
      "text/plain": [
       "(tensor([0.6729, 0.1028, 0.7876, 0.5540, 0.4653], device='cuda:0'),\n",
       " device(type='cuda', index=0))"
      ]
     },
     "execution_count": 91,
     "metadata": {},
     "output_type": "execute_result"
    }
   ],
   "source": [
    "tensor_on_gpu = tensor.to(device)\n",
    "tensor_on_gpu, tensor_on_gpu.device"
   ]
  },
  {
   "cell_type": "code",
   "execution_count": 92,
   "id": "e31b35fd",
   "metadata": {},
   "outputs": [
    {
     "ename": "TypeError",
     "evalue": "can't convert cuda:0 device type tensor to numpy. Use Tensor.cpu() to copy the tensor to host memory first.",
     "output_type": "error",
     "traceback": [
      "\u001b[1;31m---------------------------------------------------------------------------\u001b[0m",
      "\u001b[1;31mTypeError\u001b[0m                                 Traceback (most recent call last)",
      "\u001b[1;32m~\\AppData\\Local\\Temp\\ipykernel_7524\\735472098.py\u001b[0m in \u001b[0;36m<module>\u001b[1;34m\u001b[0m\n\u001b[1;32m----> 1\u001b[1;33m \u001b[0mtensor_on_gpu\u001b[0m\u001b[1;33m.\u001b[0m\u001b[0mnumpy\u001b[0m\u001b[1;33m(\u001b[0m\u001b[1;33m)\u001b[0m\u001b[1;33m\u001b[0m\u001b[1;33m\u001b[0m\u001b[0m\n\u001b[0m",
      "\u001b[1;31mTypeError\u001b[0m: can't convert cuda:0 device type tensor to numpy. Use Tensor.cpu() to copy the tensor to host memory first."
     ]
    }
   ],
   "source": [
    "tensor_on_gpu.numpy()"
   ]
  },
  {
   "cell_type": "code",
   "execution_count": 93,
   "id": "930e7301",
   "metadata": {},
   "outputs": [
    {
     "data": {
      "text/plain": [
       "(tensor([0.6729, 0.1028, 0.7876, 0.5540, 0.4653]), device(type='cpu'))"
      ]
     },
     "execution_count": 93,
     "metadata": {},
     "output_type": "execute_result"
    }
   ],
   "source": [
    "tensor_back_on_cpu = tensor_on_gpu.cpu()\n",
    "tensor_back_on_cpu, tensor_back_on_cpu.device"
   ]
  },
  {
   "cell_type": "code",
   "execution_count": 94,
   "id": "c23d4f77",
   "metadata": {},
   "outputs": [
    {
     "data": {
      "text/plain": [
       "array([0.6728539 , 0.10275805, 0.7876373 , 0.5539505 , 0.46527135],\n",
       "      dtype=float32)"
      ]
     },
     "execution_count": 94,
     "metadata": {},
     "output_type": "execute_result"
    }
   ],
   "source": [
    "tensor_back_on_cpu.numpy()"
   ]
  },
  {
   "cell_type": "markdown",
   "id": "c3ddf700",
   "metadata": {},
   "source": [
    "## Exercises"
   ]
  },
  {
   "cell_type": "markdown",
   "id": "2bc998a7",
   "metadata": {},
   "source": [
    "1. Documentation reading - A big part of deep learning (and learning to code in general) is getting familiar with the documentation of a certain framework you're using. We'll be using the PyTorch documentation a lot throughout the rest of this course. So I'd recommend spending 10-minutes reading the following (it's okay if you don't get some things for now, the focus is not yet full understanding, it's awareness). See the documentation on torch.Tensor and for torch.cuda.\n",
    "2. Create a random tensor with shape (7, 7).\n",
    "3. Perform a matrix multiplication on the tensor from 2 with another random tensor with shape (1, 7) (hint: you may have to transpose the second tensor).\n",
    "4. Set the random seed to 0 and do exercises 2 & 3 over again.\n",
    "5. Speaking of random seeds, we saw how to set it with torch.manual_seed() but is there a GPU equivalent? (hint: you'll need to look into the documentation for torch.cuda for this one). If there is, set the GPU random seed to 1234.\n",
    "6. Create two random tensors of shape (2, 3) and send them both to the GPU (you'll need access to a GPU for this). Set torch.manual_seed(1234) when creating the tensors (this doesn't have to be the GPU random seed).\n",
    "7. Perform a matrix multiplication on the tensors you created in 6 (again, you may have to adjust the shapes of one of the tensors).\n",
    "8. Find the maximum and minimum values of the output of 7.\n",
    "9. Find the maximum and minimum index values of the output of 7.\n",
    "10. Make a random tensor with shape (1, 1, 1, 10) and then create a new tensor with all the 1 dimensions removed to be left with a tensor of shape (10). Set the seed to 7 when you create it and print out the first tensor and it's shape as well as the second tensor and it's shape."
   ]
  },
  {
   "cell_type": "code",
   "execution_count": 95,
   "id": "15c07419",
   "metadata": {},
   "outputs": [
    {
     "data": {
      "text/plain": [
       "(tensor([[0.2311, 0.2214, 0.3348, 0.4541, 0.2519, 0.6310, 0.1707],\n",
       "         [0.3122, 0.1976, 0.5466, 0.0213, 0.9049, 0.8444, 0.9330],\n",
       "         [0.2950, 0.4773, 0.4787, 0.3440, 0.6732, 0.6593, 0.1879],\n",
       "         [0.4546, 0.1049, 0.7112, 0.7709, 0.5514, 0.0807, 0.3029],\n",
       "         [0.7935, 0.2823, 0.5686, 0.1354, 0.4224, 0.1946, 0.0791],\n",
       "         [0.2242, 0.3113, 0.9287, 0.9269, 0.7013, 0.7788, 0.6650],\n",
       "         [0.2760, 0.7221, 0.4752, 0.1604, 0.4215, 0.7701, 0.4345]]),\n",
       " torch.Size([7, 7]))"
      ]
     },
     "execution_count": 95,
     "metadata": {},
     "output_type": "execute_result"
    }
   ],
   "source": [
    "# 2\n",
    "\n",
    "import torch\n",
    "tensor = torch.rand(7, 7)\n",
    "tensor, tensor.shape"
   ]
  },
  {
   "cell_type": "code",
   "execution_count": 96,
   "id": "c54105b9",
   "metadata": {},
   "outputs": [
    {
     "data": {
      "text/plain": [
       "tensor([[1.2167],\n",
       "        [2.2845],\n",
       "        [1.6275],\n",
       "        [1.3137],\n",
       "        [1.3016],\n",
       "        [2.3560],\n",
       "        [1.9897]])"
      ]
     },
     "execution_count": 96,
     "metadata": {},
     "output_type": "execute_result"
    }
   ],
   "source": [
    "# 3\n",
    "\n",
    "tensor_B = torch.rand(1, 7)\n",
    "tensor_B_T = tensor_B.T\n",
    "\n",
    "# Matrix Multiplication\n",
    "output_tensor = torch.matmul(tensor, tensor_B_T)\n",
    "output_tensor"
   ]
  },
  {
   "cell_type": "code",
   "execution_count": 97,
   "id": "e3c95244",
   "metadata": {},
   "outputs": [
    {
     "data": {
      "text/plain": [
       "tensor([[1.8542],\n",
       "        [1.9611],\n",
       "        [2.2884],\n",
       "        [3.0481],\n",
       "        [1.7067],\n",
       "        [2.5290],\n",
       "        [1.7989]])"
      ]
     },
     "execution_count": 97,
     "metadata": {},
     "output_type": "execute_result"
    }
   ],
   "source": [
    "# 4\n",
    "\n",
    "SEED = 0\n",
    "torch.manual_seed(SEED)\n",
    "tensor_A = torch.rand(7, 7)\n",
    "tensor_B = torch.rand(1, 7)\n",
    "output_tensor = torch.matmul(tensor_A, tensor_B.T)\n",
    "output_tensor"
   ]
  },
  {
   "cell_type": "code",
   "execution_count": 98,
   "id": "cd3262f8",
   "metadata": {},
   "outputs": [],
   "source": [
    "# 5\n",
    "# To set random seed on GPU, we use\n",
    "\n",
    "torch.cuda.manual_seed(1234)"
   ]
  },
  {
   "cell_type": "code",
   "execution_count": 99,
   "id": "d54d313b",
   "metadata": {},
   "outputs": [],
   "source": [
    "# 6\n",
    "\n",
    "torch.manual_seed(1234)\n",
    "device = \"cuda\" if torch.cuda.is_available() else \"cpu\"\n",
    "\n",
    "tensor_A = torch.rand(2, 3).to(device)\n",
    "tensor_B = torch.rand(2, 3).to(device)"
   ]
  },
  {
   "cell_type": "code",
   "execution_count": 100,
   "id": "eebf7f02",
   "metadata": {},
   "outputs": [
    {
     "data": {
      "text/plain": [
       "tensor([[0.3647, 0.4709],\n",
       "        [0.5184, 0.5617]], device='cuda:0')"
      ]
     },
     "execution_count": 100,
     "metadata": {},
     "output_type": "execute_result"
    }
   ],
   "source": [
    "# 7\n",
    "\n",
    "output = torch.matmul(tensor_A, tensor_B.T)\n",
    "output"
   ]
  },
  {
   "cell_type": "code",
   "execution_count": 101,
   "id": "c76eaaa4",
   "metadata": {},
   "outputs": [
    {
     "data": {
      "text/plain": [
       "(tensor(0.3647, device='cuda:0'), tensor(0.5617, device='cuda:0'))"
      ]
     },
     "execution_count": 101,
     "metadata": {},
     "output_type": "execute_result"
    }
   ],
   "source": [
    "# 8\n",
    "\n",
    "output.min(), output.max()"
   ]
  },
  {
   "cell_type": "code",
   "execution_count": 102,
   "id": "0adff871",
   "metadata": {},
   "outputs": [
    {
     "data": {
      "text/plain": [
       "(tensor(0, device='cuda:0'), tensor(3, device='cuda:0'))"
      ]
     },
     "execution_count": 102,
     "metadata": {},
     "output_type": "execute_result"
    }
   ],
   "source": [
    "# 9\n",
    "\n",
    "output.argmin(), output.argmax()"
   ]
  },
  {
   "cell_type": "code",
   "execution_count": 103,
   "id": "f3e9a3b0",
   "metadata": {},
   "outputs": [
    {
     "data": {
      "text/plain": [
       "(tensor([[[[0.5349, 0.1988, 0.6592, 0.6569, 0.2328, 0.4251, 0.2071, 0.6297,\n",
       "            0.3653, 0.8513]]]]),\n",
       " torch.Size([1, 1, 1, 10]))"
      ]
     },
     "execution_count": 103,
     "metadata": {},
     "output_type": "execute_result"
    }
   ],
   "source": [
    "# 10\n",
    "\n",
    "torch.manual_seed(7)\n",
    "tensor = torch.rand(1, 1, 1, 10)\n",
    "tensor, tensor.shape"
   ]
  },
  {
   "cell_type": "code",
   "execution_count": 104,
   "id": "ae026013",
   "metadata": {},
   "outputs": [
    {
     "data": {
      "text/plain": [
       "(tensor([0.5349, 0.1988, 0.6592, 0.6569, 0.2328, 0.4251, 0.2071, 0.6297, 0.3653,\n",
       "         0.8513]),\n",
       " torch.Size([10]))"
      ]
     },
     "execution_count": 104,
     "metadata": {},
     "output_type": "execute_result"
    }
   ],
   "source": [
    "sq_tensor = tensor.squeeze()\n",
    "sq_tensor, sq_tensor.shape"
   ]
  }
 ],
 "metadata": {
  "kernelspec": {
   "display_name": "Python 3 (ipykernel)",
   "language": "python",
   "name": "python3"
  },
  "language_info": {
   "codemirror_mode": {
    "name": "ipython",
    "version": 3
   },
   "file_extension": ".py",
   "mimetype": "text/x-python",
   "name": "python",
   "nbconvert_exporter": "python",
   "pygments_lexer": "ipython3",
   "version": "3.9.13"
  }
 },
 "nbformat": 4,
 "nbformat_minor": 5
}
